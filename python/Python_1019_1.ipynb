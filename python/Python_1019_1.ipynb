{
  "nbformat": 4,
  "nbformat_minor": 0,
  "metadata": {
    "colab": {
      "provenance": []
    },
    "kernelspec": {
      "name": "python3",
      "display_name": "Python 3"
    },
    "language_info": {
      "name": "python"
    }
  },
  "cells": [
    {
      "cell_type": "markdown",
      "source": [
        "1019 4110E229 Angela Mae Pologon"
      ],
      "metadata": {
        "id": "6eDaByMEKy7Y"
      }
    },
    {
      "cell_type": "markdown",
      "source": [
        "Python Conditions and If statements\n",
        "\n",
        "Exercise 01: Print \"Hello Korea\" if a is greater than b."
      ],
      "metadata": {
        "id": "jDhOidZUK_jJ"
      }
    },
    {
      "cell_type": "code",
      "source": [
        "a = 29\n",
        "b = 15\n",
        "if  a > b:\n",
        "  print(\"Hello Korea\")"
      ],
      "metadata": {
        "colab": {
          "base_uri": "https://localhost:8080/"
        },
        "id": "40O30d3wLK_C",
        "outputId": "83fd0c2a-6d4d-47bb-8e50-58e82344979b"
      },
      "execution_count": 1,
      "outputs": [
        {
          "output_type": "stream",
          "name": "stdout",
          "text": [
            "Hello Korea\n"
          ]
        }
      ]
    },
    {
      "cell_type": "markdown",
      "source": [
        "Exercise 02: Print \"Hello World\" if a is not equal to b."
      ],
      "metadata": {
        "id": "kaoShFR7L4lS"
      }
    },
    {
      "cell_type": "code",
      "source": [
        "a = 29\n",
        "b = 15\n",
        "if  a != b:\n",
        "  print(\"Hello Korea\")"
      ],
      "metadata": {
        "colab": {
          "base_uri": "https://localhost:8080/"
        },
        "id": "sFnM3Ey1L98j",
        "outputId": "7c777a50-6359-4809-a5fe-34a384b10dbb"
      },
      "execution_count": 2,
      "outputs": [
        {
          "output_type": "stream",
          "name": "stdout",
          "text": [
            "Hello Korea\n"
          ]
        }
      ]
    },
    {
      "cell_type": "markdown",
      "source": [
        "Exercise 03: Print \"Yes\" if a is equal to b, otherwise print \"No\"."
      ],
      "metadata": {
        "id": "ixvYvIiSMfVe"
      }
    },
    {
      "cell_type": "code",
      "source": [
        "a = 29\n",
        "b = 15\n",
        "if a == b:\n",
        "  print(\"Yes\")\n",
        "else:\n",
        "  print(\"No\")"
      ],
      "metadata": {
        "colab": {
          "base_uri": "https://localhost:8080/"
        },
        "id": "T3OlHGB5MnrN",
        "outputId": "ad0168fd-d590-4079-eda6-a5aba3470ff5"
      },
      "execution_count": 3,
      "outputs": [
        {
          "output_type": "stream",
          "name": "stdout",
          "text": [
            "No\n"
          ]
        }
      ]
    },
    {
      "cell_type": "markdown",
      "source": [
        "\n",
        "Exercise 04: Print \"1\" if a is equal to b, print \"2\" if a is greater than b, otherwise print \"3\"."
      ],
      "metadata": {
        "id": "3yEIpi50Mqyi"
      }
    },
    {
      "cell_type": "code",
      "source": [
        "a = 75\n",
        "b = 30\n",
        "if a == b:\n",
        " print(\"1\")\n",
        "elif a > b:\n",
        " print(\"2\")\n",
        "else:\n",
        " print(\"3\")"
      ],
      "metadata": {
        "colab": {
          "base_uri": "https://localhost:8080/"
        },
        "id": "TsOA4dqSMwwI",
        "outputId": "45abbaa5-7048-4b37-82e3-c4e16ec4dc13"
      },
      "execution_count": 4,
      "outputs": [
        {
          "output_type": "stream",
          "name": "stdout",
          "text": [
            "2\n"
          ]
        }
      ]
    },
    {
      "cell_type": "markdown",
      "source": [
        "Exercise 05: Print \"Hello\" if a is equal to b, and c is equal to d."
      ],
      "metadata": {
        "id": "fg0m0gB0NLTg"
      }
    },
    {
      "cell_type": "code",
      "source": [
        "if a == b and c == d:\n",
        "  print(\"Hello\")"
      ],
      "metadata": {
        "id": "Gfm66wzkNNot"
      },
      "execution_count": 5,
      "outputs": []
    },
    {
      "cell_type": "markdown",
      "source": [
        "\n",
        "Exercise 06: Print \"Hello\" if a is equal to b, or if c is equal to d."
      ],
      "metadata": {
        "id": "dPdXyksYNVaC"
      }
    },
    {
      "cell_type": "code",
      "source": [
        " a = 50\n",
        " b = 70\n",
        " c = 80\n",
        " d = 90\n",
        " if a == b or c == d:\n",
        "  print(\"Hello\")"
      ],
      "metadata": {
        "id": "tj4tdaQpVBpR"
      },
      "execution_count": 18,
      "outputs": []
    },
    {
      "cell_type": "markdown",
      "source": [
        "Exercise 07: This example misses indentations to be correct. Insert the missing indentation to make the code correct:"
      ],
      "metadata": {
        "id": "IHvK8NlSVYmv"
      }
    },
    {
      "cell_type": "code",
      "source": [
        "if 8 > 5:\n",
        "  print(\"eight is greater than five!\")"
      ],
      "metadata": {
        "colab": {
          "base_uri": "https://localhost:8080/"
        },
        "id": "52HdXdtVVaL9",
        "outputId": "146c6397-9066-4182-a4a8-54c01d8239b1"
      },
      "execution_count": 19,
      "outputs": [
        {
          "output_type": "stream",
          "name": "stdout",
          "text": [
            "eight is greater than five!\n"
          ]
        }
      ]
    },
    {
      "cell_type": "markdown",
      "source": [
        "Exercise 08:Use the correct short hand syntax to put the following statement on one line:"
      ],
      "metadata": {
        "id": "HQsym70XVkxm"
      }
    },
    {
      "cell_type": "code",
      "source": [
        "if 5 > 2: print(\"eight is greater than five!\")"
      ],
      "metadata": {
        "colab": {
          "base_uri": "https://localhost:8080/"
        },
        "id": "Hs6Zdxo_Vl4R",
        "outputId": "0864eb79-4642-492e-bae4-8b6cf1b8e782"
      },
      "execution_count": 20,
      "outputs": [
        {
          "output_type": "stream",
          "name": "stdout",
          "text": [
            "eight is greater than five!\n"
          ]
        }
      ]
    },
    {
      "cell_type": "markdown",
      "source": [
        "Exercise 09: Use the correct short hand syntax to write the following conditional expression in one line:"
      ],
      "metadata": {
        "id": "HqC-YhI-Vyr_"
      }
    },
    {
      "cell_type": "code",
      "source": [
        "print(\"Yes\") if 8 > 5 else print(\"No\")"
      ],
      "metadata": {
        "colab": {
          "base_uri": "https://localhost:8080/"
        },
        "id": "F-Myf14oVzqe",
        "outputId": "23cb1cd9-78c7-45fc-e70a-8287f23bc8b4"
      },
      "execution_count": 21,
      "outputs": [
        {
          "output_type": "stream",
          "name": "stdout",
          "text": [
            "Yes\n"
          ]
        }
      ]
    }
  ]
}