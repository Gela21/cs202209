{
  "nbformat": 4,
  "nbformat_minor": 0,
  "metadata": {
    "colab": {
      "provenance": []
    },
    "kernelspec": {
      "name": "python3",
      "display_name": "Python 3"
    },
    "language_info": {
      "name": "python"
    }
  },
  "cells": [
    {
      "cell_type": "markdown",
      "source": [
        "#1019 4110E229 Angela Mae Pologon"
      ],
      "metadata": {
        "id": "spSzhsBfZqxe"
      }
    },
    {
      "cell_type": "markdown",
      "source": [
        "For Loops\n",
        "\n",
        "Example Print each flower in a flower list:"
      ],
      "metadata": {
        "id": "MSkf5kY4Z46D"
      }
    },
    {
      "cell_type": "code",
      "source": [
        "flowers = [\"rose\", \"tulips\", \"dahlia\", \"orchids\"]\n",
        "for x in fruits:\n",
        "  print(x)"
      ],
      "metadata": {
        "colab": {
          "base_uri": "https://localhost:8080/"
        },
        "id": "hFGwqE_1byBr",
        "outputId": "4ea104ad-6d5f-4d44-bc46-1eede3ac9a5f"
      },
      "execution_count": 2,
      "outputs": [
        {
          "output_type": "stream",
          "name": "stdout",
          "text": [
            "rose\n",
            "tulips\n",
            "dahlia\n",
            "orchids\n"
          ]
        }
      ]
    }
  ]
}